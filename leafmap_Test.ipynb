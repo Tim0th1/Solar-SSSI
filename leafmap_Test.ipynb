{
 "cells": [
  {
   "cell_type": "markdown",
   "id": "45fd1aca-e8ed-4aff-8d49-f226cd2ea845",
   "metadata": {
    "tags": []
   },
   "source": [
    "# Solar Farm Applications in Nature Reserves(SSSI)"
   ]
  },
  {
   "cell_type": "code",
   "execution_count": 36,
   "id": "e69ce096",
   "metadata": {},
   "outputs": [],
   "source": [
    "import leafmap\n",
    "import pandas as pd\n",
    "import geopandas as gpd\n",
    "from geopandas import GeoDataFrame, overlay\n",
    "from shapely.geometry import Point\n",
    "import matplotlib.pyplot as plt\n",
    "\n",
    "from datetime import date\n",
    "from dateutil.relativedelta import relativedelta\n",
    "\n",
    "\n"
   ]
  },
  {
   "cell_type": "markdown",
   "id": "564698be-f64c-46be-b330-feae3bb12f44",
   "metadata": {},
   "source": [
    "### Set the date range for the API call:\n"
   ]
  },
  {
   "cell_type": "code",
   "execution_count": 37,
   "id": "c046db0e-1a17-4dd3-9cd5-5c01c0d14540",
   "metadata": {},
   "outputs": [],
   "source": [
    "\n",
    "today = date.today()\n",
    "today = today.strftime('%Y-%m-%d')\n",
    "three_months_ago = date.today() + relativedelta(months=-3)\n",
    "three_months_ago = three_months_ago.strftime('%Y-%m-%d')"
   ]
  },
  {
   "cell_type": "markdown",
   "id": "3f200173-c61e-4c2f-9470-00eb1d891628",
   "metadata": {},
   "source": [
    "### Get dataframe from API"
   ]
  },
  {
   "cell_type": "code",
   "execution_count": 38,
   "id": "f0e2a09a",
   "metadata": {},
   "outputs": [
    {
     "data": {
      "text/html": [
       "<div>\n",
       "<style scoped>\n",
       "    .dataframe tbody tr th:only-of-type {\n",
       "        vertical-align: middle;\n",
       "    }\n",
       "\n",
       "    .dataframe tbody tr th {\n",
       "        vertical-align: top;\n",
       "    }\n",
       "\n",
       "    .dataframe thead th {\n",
       "        text-align: right;\n",
       "    }\n",
       "</style>\n",
       "<table border=\"1\" class=\"dataframe\">\n",
       "  <thead>\n",
       "    <tr style=\"text-align: right;\">\n",
       "      <th></th>\n",
       "      <th>name</th>\n",
       "      <th>uid</th>\n",
       "      <th>scraper_name</th>\n",
       "      <th>description</th>\n",
       "      <th>address</th>\n",
       "      <th>postcode</th>\n",
       "      <th>url</th>\n",
       "      <th>associated_id</th>\n",
       "      <th>app_size</th>\n",
       "      <th>app_state</th>\n",
       "      <th>...</th>\n",
       "      <th>other_fields.longitude</th>\n",
       "      <th>other_fields.decision_date</th>\n",
       "      <th>other_fields.appeal_status</th>\n",
       "      <th>other_fields.applicant_company</th>\n",
       "      <th>other_fields.decision_issued_date</th>\n",
       "      <th>other_fields.decision_published_date</th>\n",
       "      <th>other_fields.permission_expires_date</th>\n",
       "      <th>other_fields.appeal_result</th>\n",
       "      <th>other_fields.meeting_date</th>\n",
       "      <th>other_fields.n_dwellings</th>\n",
       "    </tr>\n",
       "  </thead>\n",
       "  <tbody>\n",
       "    <tr>\n",
       "      <th>0</th>\n",
       "      <td>Crawley/CR/2021/0573/192</td>\n",
       "      <td>CR/2021/0573/192</td>\n",
       "      <td>Crawley</td>\n",
       "      <td>CERTFICATE OF LAWFULNESS FOR INSTALLATION AND IMPLEMENTATION OF ROOF MOUNTED 273KWP SOLAR PV ARRAY AT VODAFONE CRAWLEY SITE</td>\n",
       "      <td>SITE B, VECTOR 2, NEWTON ROAD, NORTHGATE, CRAWLEY</td>\n",
       "      <td>None</td>\n",
       "      <td>https://planningregister.crawley.gov.uk/Planning/Display/CR/2021/0573/192</td>\n",
       "      <td>None</td>\n",
       "      <td>Small</td>\n",
       "      <td>Undecided</td>\n",
       "      <td>...</td>\n",
       "      <td>NaN</td>\n",
       "      <td>NaN</td>\n",
       "      <td>NaN</td>\n",
       "      <td>NaN</td>\n",
       "      <td>NaN</td>\n",
       "      <td>NaN</td>\n",
       "      <td>NaN</td>\n",
       "      <td>NaN</td>\n",
       "      <td>NaN</td>\n",
       "      <td>NaN</td>\n",
       "    </tr>\n",
       "    <tr>\n",
       "      <th>1</th>\n",
       "      <td>Wiltshire/PL/2021/08598</td>\n",
       "      <td>PL/2021/08598</td>\n",
       "      <td>Wiltshire</td>\n",
       "      <td>Erection of agricultural barn for use of storage to house; farming equipment ie tractor/mower, log drying area, wash room. To include solar panelling on the roof for powering of equipment.</td>\n",
       "      <td>Land west of Woodlands Way, Woodlands Road, Mere, BA12 6JT</td>\n",
       "      <td>BA12 6JT</td>\n",
       "      <td>https://development.wiltshire.gov.uk/pr/s/planning-application/a0i3z000016HXh2AAG</td>\n",
       "      <td>None</td>\n",
       "      <td>Small</td>\n",
       "      <td>Undecided</td>\n",
       "      <td>...</td>\n",
       "      <td>NaN</td>\n",
       "      <td>NaN</td>\n",
       "      <td>NaN</td>\n",
       "      <td>NaN</td>\n",
       "      <td>NaN</td>\n",
       "      <td>NaN</td>\n",
       "      <td>NaN</td>\n",
       "      <td>NaN</td>\n",
       "      <td>NaN</td>\n",
       "      <td>NaN</td>\n",
       "    </tr>\n",
       "    <tr>\n",
       "      <th>2</th>\n",
       "      <td>Reigate/21/02530/LBC</td>\n",
       "      <td>21/02530/LBC</td>\n",
       "      <td>Reigate</td>\n",
       "      <td>Installation of six solar panels on south-facing roof of kitchen/diner and master bedroom.</td>\n",
       "      <td>Camellia Cottage 154 Dovers Green Road Reigate Surrey RH2 8BZ</td>\n",
       "      <td>RH2 8BZ</td>\n",
       "      <td>https://planning.reigate-banstead.gov.uk/online-applications/applicationDetails.do?activeTab=summary&amp;keyVal=QZW3GQMVKUR00</td>\n",
       "      <td>None</td>\n",
       "      <td>Small</td>\n",
       "      <td>Undecided</td>\n",
       "      <td>...</td>\n",
       "      <td>NaN</td>\n",
       "      <td>NaN</td>\n",
       "      <td>NaN</td>\n",
       "      <td>NaN</td>\n",
       "      <td>NaN</td>\n",
       "      <td>NaN</td>\n",
       "      <td>NaN</td>\n",
       "      <td>NaN</td>\n",
       "      <td>NaN</td>\n",
       "      <td>NaN</td>\n",
       "    </tr>\n",
       "    <tr>\n",
       "      <th>3</th>\n",
       "      <td>Reigate/21/02529/HHOLD</td>\n",
       "      <td>21/02529/HHOLD</td>\n",
       "      <td>Reigate</td>\n",
       "      <td>Installation of six solar panels on south-facing roof of kitchen/diner and master bedroom.</td>\n",
       "      <td>Camellia Cottage 154 Dovers Green Road Reigate Surrey RH2 8BZ</td>\n",
       "      <td>RH2 8BZ</td>\n",
       "      <td>https://planning.reigate-banstead.gov.uk/online-applications/applicationDetails.do?activeTab=summary&amp;keyVal=QZW3GPMVKUQ00</td>\n",
       "      <td>None</td>\n",
       "      <td>Small</td>\n",
       "      <td>Undecided</td>\n",
       "      <td>...</td>\n",
       "      <td>NaN</td>\n",
       "      <td>NaN</td>\n",
       "      <td>NaN</td>\n",
       "      <td>NaN</td>\n",
       "      <td>NaN</td>\n",
       "      <td>NaN</td>\n",
       "      <td>NaN</td>\n",
       "      <td>NaN</td>\n",
       "      <td>NaN</td>\n",
       "      <td>NaN</td>\n",
       "    </tr>\n",
       "    <tr>\n",
       "      <th>4</th>\n",
       "      <td>Wycombe/21/07948/PNP14J</td>\n",
       "      <td>21/07948/PNP14J</td>\n",
       "      <td>Wycombe</td>\n",
       "      <td>Prior notification application (Part 14, Class J) for installation of 93.48kWp solar panels on roof</td>\n",
       "      <td>Unit C 2 Thomas Road Wooburn Industrial Estate Wooburn Green Buckinghamshire HP10 0PE</td>\n",
       "      <td>HP10 0PE</td>\n",
       "      <td>https://publicaccess.wycombe.gov.uk/idoxpa-web/applicationDetails.do?keyVal=R08QXVSC0O500&amp;activeTab=summary</td>\n",
       "      <td>93.48kWp</td>\n",
       "      <td>Small</td>\n",
       "      <td>Undecided</td>\n",
       "      <td>...</td>\n",
       "      <td>NaN</td>\n",
       "      <td>NaN</td>\n",
       "      <td>NaN</td>\n",
       "      <td>NaN</td>\n",
       "      <td>NaN</td>\n",
       "      <td>NaN</td>\n",
       "      <td>NaN</td>\n",
       "      <td>NaN</td>\n",
       "      <td>NaN</td>\n",
       "      <td>NaN</td>\n",
       "    </tr>\n",
       "  </tbody>\n",
       "</table>\n",
       "<p>5 rows × 83 columns</p>\n",
       "</div>"
      ],
      "text/plain": [
       "                       name               uid scraper_name  \\\n",
       "0  Crawley/CR/2021/0573/192  CR/2021/0573/192      Crawley   \n",
       "1   Wiltshire/PL/2021/08598     PL/2021/08598    Wiltshire   \n",
       "2      Reigate/21/02530/LBC      21/02530/LBC      Reigate   \n",
       "3    Reigate/21/02529/HHOLD    21/02529/HHOLD      Reigate   \n",
       "4   Wycombe/21/07948/PNP14J   21/07948/PNP14J      Wycombe   \n",
       "\n",
       "                                                                                                                                                                                    description  \\\n",
       "0                                                                   CERTFICATE OF LAWFULNESS FOR INSTALLATION AND IMPLEMENTATION OF ROOF MOUNTED 273KWP SOLAR PV ARRAY AT VODAFONE CRAWLEY SITE   \n",
       "1  Erection of agricultural barn for use of storage to house; farming equipment ie tractor/mower, log drying area, wash room. To include solar panelling on the roof for powering of equipment.   \n",
       "2                                                                                                    Installation of six solar panels on south-facing roof of kitchen/diner and master bedroom.   \n",
       "3                                                                                                    Installation of six solar panels on south-facing roof of kitchen/diner and master bedroom.   \n",
       "4                                                                                           Prior notification application (Part 14, Class J) for installation of 93.48kWp solar panels on roof   \n",
       "\n",
       "                                                                                 address  \\\n",
       "0                                      SITE B, VECTOR 2, NEWTON ROAD, NORTHGATE, CRAWLEY   \n",
       "1                             Land west of Woodlands Way, Woodlands Road, Mere, BA12 6JT   \n",
       "2                          Camellia Cottage 154 Dovers Green Road Reigate Surrey RH2 8BZ   \n",
       "3                          Camellia Cottage 154 Dovers Green Road Reigate Surrey RH2 8BZ   \n",
       "4  Unit C 2 Thomas Road Wooburn Industrial Estate Wooburn Green Buckinghamshire HP10 0PE   \n",
       "\n",
       "   postcode  \\\n",
       "0      None   \n",
       "1  BA12 6JT   \n",
       "2   RH2 8BZ   \n",
       "3   RH2 8BZ   \n",
       "4  HP10 0PE   \n",
       "\n",
       "                                                                                                                         url  \\\n",
       "0                                                  https://planningregister.crawley.gov.uk/Planning/Display/CR/2021/0573/192   \n",
       "1                                          https://development.wiltshire.gov.uk/pr/s/planning-application/a0i3z000016HXh2AAG   \n",
       "2  https://planning.reigate-banstead.gov.uk/online-applications/applicationDetails.do?activeTab=summary&keyVal=QZW3GQMVKUR00   \n",
       "3  https://planning.reigate-banstead.gov.uk/online-applications/applicationDetails.do?activeTab=summary&keyVal=QZW3GPMVKUQ00   \n",
       "4                https://publicaccess.wycombe.gov.uk/idoxpa-web/applicationDetails.do?keyVal=R08QXVSC0O500&activeTab=summary   \n",
       "\n",
       "  associated_id app_size  app_state  ... other_fields.longitude  \\\n",
       "0          None    Small  Undecided  ...                    NaN   \n",
       "1          None    Small  Undecided  ...                    NaN   \n",
       "2          None    Small  Undecided  ...                    NaN   \n",
       "3          None    Small  Undecided  ...                    NaN   \n",
       "4      93.48kWp    Small  Undecided  ...                    NaN   \n",
       "\n",
       "  other_fields.decision_date other_fields.appeal_status  \\\n",
       "0                        NaN                        NaN   \n",
       "1                        NaN                        NaN   \n",
       "2                        NaN                        NaN   \n",
       "3                        NaN                        NaN   \n",
       "4                        NaN                        NaN   \n",
       "\n",
       "  other_fields.applicant_company other_fields.decision_issued_date  \\\n",
       "0                            NaN                               NaN   \n",
       "1                            NaN                               NaN   \n",
       "2                            NaN                               NaN   \n",
       "3                            NaN                               NaN   \n",
       "4                            NaN                               NaN   \n",
       "\n",
       "  other_fields.decision_published_date other_fields.permission_expires_date  \\\n",
       "0                                  NaN                                  NaN   \n",
       "1                                  NaN                                  NaN   \n",
       "2                                  NaN                                  NaN   \n",
       "3                                  NaN                                  NaN   \n",
       "4                                  NaN                                  NaN   \n",
       "\n",
       "  other_fields.appeal_result  other_fields.meeting_date  \\\n",
       "0                        NaN                        NaN   \n",
       "1                        NaN                        NaN   \n",
       "2                        NaN                        NaN   \n",
       "3                        NaN                        NaN   \n",
       "4                        NaN                        NaN   \n",
       "\n",
       "  other_fields.n_dwellings  \n",
       "0                      NaN  \n",
       "1                      NaN  \n",
       "2                      NaN  \n",
       "3                      NaN  \n",
       "4                      NaN  \n",
       "\n",
       "[5 rows x 83 columns]"
      ]
     },
     "execution_count": 38,
     "metadata": {},
     "output_type": "execute_result"
    }
   ],
   "source": [
    "# https://www.planit.org.uk/api/\n",
    "\n",
    "df=pd.read_json('https://www.planit.org.uk/api/applics/json?start_date='+ three_months_ago +'&'+ 'end_date=' + today +'&search=solar&compress=on')\n",
    "\n",
    "\n",
    "# extract new dataframe from dictionary of records\n",
    "\n",
    "solar = pd.json_normalize(df['records'])\n",
    "solar.head()"
   ]
  },
  {
   "cell_type": "code",
   "execution_count": 39,
   "id": "bafcb639-625c-4a29-a10b-741cc2d474d9",
   "metadata": {},
   "outputs": [
    {
     "data": {
      "text/plain": [
       "(1034, 83)"
      ]
     },
     "execution_count": 39,
     "metadata": {},
     "output_type": "execute_result"
    }
   ],
   "source": [
    "solar.shape\n",
    "#solar.to_csv('solar.csv')"
   ]
  },
  {
   "cell_type": "markdown",
   "id": "87faa0ea-b485-44ba-851b-3428ae39ef6c",
   "metadata": {},
   "source": [
    "### Filtering the data"
   ]
  },
  {
   "cell_type": "code",
   "execution_count": 40,
   "id": "ab63e807-fc16-45b6-b1f4-50ca85f38ad9",
   "metadata": {},
   "outputs": [],
   "source": [
    "solar['description'] = solar['description'].str.lower() \n",
    "\n",
    "# exclude (!consider risks)\n",
    "\n",
    "# solar = solar[(~solar['description'].str.contains('roof'))] #residential\n",
    "# solar.shape"
   ]
  },
  {
   "cell_type": "code",
   "execution_count": 42,
   "id": "1eba9c84-7504-49d4-86c9-36605ab36f07",
   "metadata": {},
   "outputs": [],
   "source": [
    "# include\n",
    "\n",
    "mylist = ['watts', 'mega', 'solar park', 'land '] # land is poor discriminator!\n",
    "pattern = '|'.join(mylist)\n",
    "\n",
    "solar_parks = solar.loc[solar['description'].str.contains(pattern)]"
   ]
  },
  {
   "cell_type": "code",
   "execution_count": 43,
   "id": "e048c865-025c-47e4-9c48-66d8b80dbb1b",
   "metadata": {},
   "outputs": [
    {
     "data": {
      "text/plain": [
       "(50, 83)"
      ]
     },
     "execution_count": 43,
     "metadata": {},
     "output_type": "execute_result"
    }
   ],
   "source": [
    "solar_parks.shape"
   ]
  },
  {
   "cell_type": "code",
   "execution_count": 44,
   "id": "8fe27196-3a25-43a8-8007-ca49c2f46e8d",
   "metadata": {},
   "outputs": [
    {
     "data": {
      "text/plain": [
       "16                                                                                                                                                                                                                                                                                                                retention of change of use of land for siting of 5.5kw ground mounted solar panel photovoltaic array\n",
       "19                                                                                                                  environmental impact assessment (eia) screening opinion in accordance with regulation 6 of the town and country planning (environmental impact assessment) regulations 2017, as amended1 from hart district council (hdc) with regard to the proposed solar farm on land at kiln fields, heckfield\n",
       "62                                                                                                                                                            discharge condition 9 (landscaping) of planning consent 19/0823/ncc (vary condition 3 of planning consent 18/0626/dns (welsh ministers consent dns3213639) (provide solar park, access and ancillary development) to amend the wording of the condition)\n",
       "77     screening opinion request in accordance with regulation 6 of the town and country planning (environmental impact assessment) regulations 2017, in order to determine whether the production of an environmental statement is required to accompany an outline/hybrid planning application for the development of the following: approximately 14 hectares of land for a solar farm;approximately 6.4 hectare...\n",
       "78                                                                                                                                                                                                                                                                                                              install 10 kilowatts (kw) roof mounted solar photovoltaic (pv) array(s) and associated infrastructure.\n",
       "82                                                                                                                                                                                                                                                                   proposed development of a photovoltaic solar park and associated infrastructure. (this may affect the setting of a listed building) ava/2020/1224\n",
       "85                                                                                                                                                                        full planning permission for a rear house extension, new windows, internal rearrangement and change of use of agricultural land to enable the fitting of solar panels, the existing garage is also proposed to be moved 3 m back on the plot\n",
       "137                                                                                                                                                                                                                                                                                          change of use of agricultural land to residential, retention of existing works and proposed outbuilding with solar panels\n",
       "159                                                                                                    subdivision of the curtialge land and construction of a two storey building to facilitate the creation of a self-contained dwellinghouse (1 x 1-bedroom). works include front boundary wall treatment, solar panelling to the main front roof slope, provision of cycle/bin storage and associated landscaping.\n",
       "186                                                                                                                                                                    planning permission to vary conditions 8, 9 and 14 of planning permission reference 11/20000/awd for calvert landfill, to provide an interim restoration plan within the area of the proposed solar park until the solar park is decommissioned\n",
       "Name: description, dtype: object"
      ]
     },
     "execution_count": 44,
     "metadata": {},
     "output_type": "execute_result"
    }
   ],
   "source": [
    "pd.set_option('max_colwidth', 400)\n",
    "\n",
    "solar_parks.description.head(10)"
   ]
  },
  {
   "cell_type": "markdown",
   "id": "6352177c-1aae-43ed-973c-eb7cacab0383",
   "metadata": {},
   "source": [
    "### Issues with missing spatial columns"
   ]
  },
  {
   "cell_type": "code",
   "execution_count": 45,
   "id": "14f5df45-6d1a-4765-b6c9-540c929bfcb3",
   "metadata": {},
   "outputs": [
    {
     "name": "stdout",
     "output_type": "stream",
     "text": [
      "(94, 83)\n"
     ]
    }
   ],
   "source": [
    "# get me the entries without any spatial data\n",
    "missing_spatials = ['postcode', 'location_x', 'location_y', 'other_fields.lat', 'other_fields.lng', 'other_fields.easting', 'other_fields.northing']\n",
    "\n",
    "\n",
    "solar_invisible = solar[solar[missing_spatials].isna().all(1)]\n",
    "print(solar_invisible.shape)\n",
    "#solar_invisible.shape"
   ]
  },
  {
   "cell_type": "code",
   "execution_count": 46,
   "id": "97753c62-ece8-4d70-989a-dec53ac187bf",
   "metadata": {},
   "outputs": [],
   "source": [
    "# make a csv of cases with hyperlinks for their geography\n",
    "\n",
    "#header = ['postcode', 'description', 'location_x', 'location_y', 'other_fields.lat', 'other_fields.lng', 'other_fields.easting', 'other_fields.northing']\n",
    "solar_invisible.to_csv('solar_invisible.csv') #columns = header"
   ]
  },
  {
   "cell_type": "markdown",
   "id": "94b13005-01bb-4c13-a0be-27a082b6f9e6",
   "metadata": {},
   "source": [
    "### Fix geometries for cases that can be fixed quickly"
   ]
  },
  {
   "cell_type": "code",
   "execution_count": 47,
   "id": "105bdab4-830a-4b48-b54f-f1e9b4ef49f0",
   "metadata": {},
   "outputs": [
    {
     "data": {
      "text/plain": [
       "[-2.741489, 50.81544]"
      ]
     },
     "execution_count": 47,
     "metadata": {},
     "output_type": "execute_result"
    }
   ],
   "source": [
    "# choosing column with max chance of simple fix for geography\n",
    "solar['location.coordinates'].iloc[68]"
   ]
  },
  {
   "cell_type": "code",
   "execution_count": 48,
   "id": "615e101f-f7ff-4abe-826f-e2273ce26ff7",
   "metadata": {},
   "outputs": [],
   "source": [
    "# split out location coordinates into two cols\n",
    "\n",
    "# handle missing values (i.e. possible cases will be missing)\n",
    "dropped = solar['location.coordinates'].dropna()\n",
    "solar[['X', 'Y']] = pd.DataFrame(dropped.tolist(), index=dropped.index)"
   ]
  },
  {
   "cell_type": "code",
   "execution_count": 49,
   "id": "2a79f7ad-cc9e-4f4a-84f8-8e27c9a2ab2c",
   "metadata": {},
   "outputs": [
    {
     "data": {
      "text/plain": [
       "(1034, 85)"
      ]
     },
     "execution_count": 49,
     "metadata": {},
     "output_type": "execute_result"
    }
   ],
   "source": [
    "solar.shape"
   ]
  },
  {
   "cell_type": "code",
   "execution_count": 50,
   "id": "5230b3ac-b6a1-4abc-a2fa-3e572d8cf8f6",
   "metadata": {},
   "outputs": [],
   "source": [
    "# drop cases where geography is missing\n",
    "\n",
    "solar = solar.dropna(subset = ['X', 'Y'])"
   ]
  },
  {
   "cell_type": "code",
   "execution_count": 51,
   "id": "910e961f-a605-4de2-b16f-eaecef1f128e",
   "metadata": {},
   "outputs": [
    {
     "data": {
      "text/plain": [
       "(923, 85)"
      ]
     },
     "execution_count": 51,
     "metadata": {},
     "output_type": "execute_result"
    }
   ],
   "source": [
    "solar.shape"
   ]
  },
  {
   "cell_type": "markdown",
   "id": "0204f633-2cc6-42bc-89a5-29c87af00fca",
   "metadata": {},
   "source": [
    "### Get the Nature reserve mapping SSSIs"
   ]
  },
  {
   "cell_type": "code",
   "execution_count": 52,
   "id": "6720abd7",
   "metadata": {},
   "outputs": [],
   "source": [
    "# attribution: UK Department of Environment Food & Rural Affairs\n",
    "# https://environment.data.gov.uk/DefraDataDownload/?mapService=NE/SitesOfSpecialScientificInterestEngland&Mode=spatial\n",
    "\n",
    "SSSIs = gpd.read_file(\"data/Sites_of_Special_Scientific_Interest_England.shp\")\n",
    "#SSSIs.set_index(['geometry'])"
   ]
  },
  {
   "cell_type": "code",
   "execution_count": 53,
   "id": "fb3b969a",
   "metadata": {},
   "outputs": [
    {
     "data": {
      "text/html": [
       "<div>\n",
       "<style scoped>\n",
       "    .dataframe tbody tr th:only-of-type {\n",
       "        vertical-align: middle;\n",
       "    }\n",
       "\n",
       "    .dataframe tbody tr th {\n",
       "        vertical-align: top;\n",
       "    }\n",
       "\n",
       "    .dataframe thead th {\n",
       "        text-align: right;\n",
       "    }\n",
       "</style>\n",
       "<table border=\"1\" class=\"dataframe\">\n",
       "  <thead>\n",
       "    <tr style=\"text-align: right;\">\n",
       "      <th></th>\n",
       "      <th>sssi_name</th>\n",
       "      <th>sssi_area</th>\n",
       "      <th>easting</th>\n",
       "      <th>northing</th>\n",
       "      <th>latitude</th>\n",
       "      <th>longitude</th>\n",
       "      <th>reference</th>\n",
       "      <th>status</th>\n",
       "      <th>gid</th>\n",
       "      <th>ensisid</th>\n",
       "      <th>gis_file</th>\n",
       "      <th>area</th>\n",
       "      <th>easting0</th>\n",
       "      <th>northing0</th>\n",
       "      <th>gis_date</th>\n",
       "      <th>version</th>\n",
       "      <th>st_area_sh</th>\n",
       "      <th>st_perimet</th>\n",
       "      <th>geometry</th>\n",
       "    </tr>\n",
       "  </thead>\n",
       "  <tbody>\n",
       "    <tr>\n",
       "      <th>0</th>\n",
       "      <td>Allen Confluence Gravels</td>\n",
       "      <td>4.777198</td>\n",
       "      <td>379993.104106</td>\n",
       "      <td>558767.08019</td>\n",
       "      <td>54:55:23N</td>\n",
       "      <td>2:19:10W</td>\n",
       "      <td>NY799587</td>\n",
       "      <td>Notified</td>\n",
       "      <td>1003435.0</td>\n",
       "      <td>1005624.0</td>\n",
       "      <td>None</td>\n",
       "      <td>4.777198</td>\n",
       "      <td>379993.104106</td>\n",
       "      <td>558767.08019</td>\n",
       "      <td>20031218</td>\n",
       "      <td>1.0</td>\n",
       "      <td>47771.979838</td>\n",
       "      <td>1957.148648</td>\n",
       "      <td>POLYGON ((380021.211 558598.082, 380011.202 558601.101, 380001.868 558605.190, 379985.798 558610.799, 379973.497 558613.098, 379956.199 558614.198, 379952.299 558614.098, 379936.699 558612.298, 379914.899 558609.199, 379896.702 558609.199, 379888.202 558609.699, 379878.901 558610.699, 379829.398 558618.876, 379813.304 558614.897, 379784.899 558610.479, 379769.596 558608.299, 379763.899 558608....</td>\n",
       "    </tr>\n",
       "  </tbody>\n",
       "</table>\n",
       "</div>"
      ],
      "text/plain": [
       "                  sssi_name  sssi_area        easting      northing  \\\n",
       "0  Allen Confluence Gravels   4.777198  379993.104106  558767.08019   \n",
       "\n",
       "    latitude longitude reference    status        gid    ensisid gis_file  \\\n",
       "0  54:55:23N  2:19:10W  NY799587  Notified  1003435.0  1005624.0     None   \n",
       "\n",
       "       area       easting0     northing0  gis_date  version    st_area_sh  \\\n",
       "0  4.777198  379993.104106  558767.08019  20031218      1.0  47771.979838   \n",
       "\n",
       "    st_perimet  \\\n",
       "0  1957.148648   \n",
       "\n",
       "                                                                                                                                                                                                                                                                                                                                                                                                          geometry  \n",
       "0  POLYGON ((380021.211 558598.082, 380011.202 558601.101, 380001.868 558605.190, 379985.798 558610.799, 379973.497 558613.098, 379956.199 558614.198, 379952.299 558614.098, 379936.699 558612.298, 379914.899 558609.199, 379896.702 558609.199, 379888.202 558609.699, 379878.901 558610.699, 379829.398 558618.876, 379813.304 558614.897, 379784.899 558610.479, 379769.596 558608.299, 379763.899 558608....  "
      ]
     },
     "execution_count": 53,
     "metadata": {},
     "output_type": "execute_result"
    }
   ],
   "source": [
    "SSSIs.head(1)\n"
   ]
  },
  {
   "cell_type": "code",
   "execution_count": 54,
   "id": "904c1922-24c6-4151-9395-83b328990806",
   "metadata": {},
   "outputs": [],
   "source": [
    "# SSSIs.dtypes"
   ]
  },
  {
   "cell_type": "code",
   "execution_count": 55,
   "id": "d71f1ca9-081f-4cbb-9e87-16fb7adcb21a",
   "metadata": {},
   "outputs": [],
   "source": [
    "# SSSIs.crs"
   ]
  },
  {
   "cell_type": "code",
   "execution_count": 56,
   "id": "7bc3eaaf-fc49-4cbf-b78e-1700f17f0c3f",
   "metadata": {},
   "outputs": [],
   "source": [
    "# SSSIs.total_bounds"
   ]
  },
  {
   "cell_type": "markdown",
   "id": "53d201ce-d620-4316-b29b-a43f707dbefe",
   "metadata": {
    "tags": []
   },
   "source": [
    "### Working towards plot of all applications and likely solar park applications in SSSIs"
   ]
  },
  {
   "cell_type": "code",
   "execution_count": 57,
   "id": "59db1d50-ad95-4831-a666-495c8965a59d",
   "metadata": {},
   "outputs": [
    {
     "name": "stdout",
     "output_type": "stream",
     "text": [
      "Solar applications: complete list = 923 , filtered list = 50\n"
     ]
    }
   ],
   "source": [
    "\n",
    "\n",
    "print('Solar applications: complete list =', solar.shape[0], ', filtered list =', solar_parks.shape[0])"
   ]
  },
  {
   "cell_type": "code",
   "execution_count": 58,
   "id": "b9c41b0d-5409-44a3-901a-a6536d7bb211",
   "metadata": {},
   "outputs": [
    {
     "data": {
      "text/plain": [
       "(923, 86)"
      ]
     },
     "execution_count": 58,
     "metadata": {},
     "output_type": "execute_result"
    }
   ],
   "source": [
    "solarGDF = gpd.GeoDataFrame(solar, geometry=gpd.points_from_xy(solar['X'], solar['Y']))  # crs={'init':'epsg:27700'}\n",
    "solarGDF.shape"
   ]
  },
  {
   "cell_type": "code",
   "execution_count": 59,
   "id": "df3a2bcd-b17b-45e0-b6d3-237225f4490a",
   "metadata": {},
   "outputs": [],
   "source": [
    "# solarGDF.total_bounds"
   ]
  },
  {
   "cell_type": "code",
   "execution_count": 60,
   "id": "5acf2a4b-e7f0-444e-90c6-4d9888701886",
   "metadata": {},
   "outputs": [],
   "source": [
    "solarGDF = solarGDF.set_crs(epsg=4326, inplace=True)\n"
   ]
  },
  {
   "cell_type": "code",
   "execution_count": 61,
   "id": "75cfe9db-4037-40d6-ba17-853e61531fd4",
   "metadata": {},
   "outputs": [],
   "source": [
    "# solarGDF.total_bounds"
   ]
  },
  {
   "cell_type": "code",
   "execution_count": 62,
   "id": "4fc4f6f0-801f-4df5-adf6-a34fb4bcab1a",
   "metadata": {},
   "outputs": [
    {
     "data": {
      "text/plain": [
       "array([101522.99126112, -76022.26359639, 646593.41325876, 959466.57531758])"
      ]
     },
     "execution_count": 62,
     "metadata": {},
     "output_type": "execute_result"
    }
   ],
   "source": [
    "solar27700 = solarGDF.to_crs(epsg=27700)\n",
    "solar27700.total_bounds"
   ]
  },
  {
   "cell_type": "code",
   "execution_count": 63,
   "id": "4f7f5437-8bf3-4b60-8a98-0a61543a2274",
   "metadata": {},
   "outputs": [],
   "source": [
    "# solarGDF['geometry'] = solarGDF.geometry.buffer(50000)"
   ]
  },
  {
   "cell_type": "code",
   "execution_count": 64,
   "id": "ae3bd0b6-ae09-41fa-8f72-f8d96a542d36",
   "metadata": {},
   "outputs": [],
   "source": [
    "# solarGDF.head(1)"
   ]
  },
  {
   "cell_type": "code",
   "execution_count": 65,
   "id": "2d1def29-a7ce-4e5a-af39-8377c402c509",
   "metadata": {},
   "outputs": [],
   "source": [
    "# solar27700.shape"
   ]
  },
  {
   "cell_type": "code",
   "execution_count": 66,
   "id": "aeda6ae6-0ccb-4d0c-b61f-b3713609ff66",
   "metadata": {},
   "outputs": [],
   "source": [
    "# fig, ax = plt.subplots(figsize=(20, 16))\n",
    "\n",
    "# SSSIs.plot(ax = ax, edgecolor='black',  )\n",
    "\n",
    "# solar27700.plot(ax=ax, marker='o', color='red', markersize=2)\n",
    "\n",
    "# plt.show()"
   ]
  },
  {
   "cell_type": "code",
   "execution_count": 67,
   "id": "a7c64854",
   "metadata": {},
   "outputs": [],
   "source": [
    "pointinpolys = gpd.sjoin(SSSIs, solar27700, op='contains', how='inner' ) # "
   ]
  },
  {
   "cell_type": "code",
   "execution_count": 68,
   "id": "977892e8-6816-4200-bfb6-39697334bc2b",
   "metadata": {},
   "outputs": [
    {
     "data": {
      "text/plain": [
       "(2, 105)"
      ]
     },
     "execution_count": 68,
     "metadata": {},
     "output_type": "execute_result"
    }
   ],
   "source": [
    "pointinpolys.shape"
   ]
  },
  {
   "cell_type": "code",
   "execution_count": 69,
   "id": "669daf77-1df7-428f-a793-033b928e19ff",
   "metadata": {},
   "outputs": [],
   "source": [
    "polyswithpoints = gpd.sjoin(solar27700, SSSIs, op='within', how='inner')"
   ]
  },
  {
   "cell_type": "code",
   "execution_count": 34,
   "id": "6f37dd03-ad87-44b9-b6fc-b1a635fc18e1",
   "metadata": {},
   "outputs": [
    {
     "data": {
      "text/plain": [
       "(2, 105)"
      ]
     },
     "execution_count": 34,
     "metadata": {},
     "output_type": "execute_result"
    }
   ],
   "source": [
    "polyswithpoints.shape"
   ]
  },
  {
   "cell_type": "code",
   "execution_count": 35,
   "id": "026299bc",
   "metadata": {},
   "outputs": [
    {
     "data": {
      "application/vnd.jupyter.widget-view+json": {
       "model_id": "a627348c3837483db8edf0947d8e6e7f",
       "version_major": 2,
       "version_minor": 0
      },
      "text/plain": [
       "Map(center=[50.5, -4], controls=(ZoomControl(options=['position', 'zoom_in_text', 'zoom_in_title', 'zoom_out_t…"
      ]
     },
     "metadata": {},
     "output_type": "display_data"
    }
   ],
   "source": [
    "m = leafmap.Map(center=[50.5,-4], zoom=8, height=\"700px\", width=\"700px\")\n",
    "m.add_gdf(pointinpolys, layer_name=\"SSSIs with solar planning applications\")\n",
    "m.add_gdf(polyswithpoints, layer_name=\"solar planning applications\")\n",
    "m\n",
    "\n",
    "# this map currently plots any application for 'solar' that lands inside an SSSI"
   ]
  },
  {
   "cell_type": "code",
   "execution_count": null,
   "id": "4ad95a83-072e-4578-929e-1b198cd0c289",
   "metadata": {},
   "outputs": [],
   "source": []
  },
  {
   "cell_type": "markdown",
   "id": "a1ecf2d6-037c-4608-9881-d759de0ac2a8",
   "metadata": {},
   "source": [
    "\n",
    "### Try to buffer the points for solar applications just ouside nature reserves - NOT WORKING YET:"
   ]
  },
  {
   "cell_type": "code",
   "execution_count": null,
   "id": "df055612-b385-4190-8b90-8c2881ac5b03",
   "metadata": {},
   "outputs": [],
   "source": [
    "bufferpoint = solar27700\n",
    "\n",
    "bufferpoint['geometry'] = solar27700.buffer(200)"
   ]
  },
  {
   "cell_type": "code",
   "execution_count": null,
   "id": "50ed9c96-b971-4eda-8a8c-b9efb6724b46",
   "metadata": {},
   "outputs": [],
   "source": [
    "# buffer1km['geometry']"
   ]
  },
  {
   "cell_type": "code",
   "execution_count": null,
   "id": "519385bc-39bd-4cc4-9bb0-74b36cdc00df",
   "metadata": {},
   "outputs": [],
   "source": [
    "\n",
    "\n",
    "polybuffered = overlay(SSSIs, bufferpoint, how='intersection')"
   ]
  },
  {
   "cell_type": "code",
   "execution_count": null,
   "id": "a1fdc9b5",
   "metadata": {},
   "outputs": [],
   "source": [
    "polybuffered.shape"
   ]
  },
  {
   "cell_type": "code",
   "execution_count": null,
   "id": "86784eaa-a9ca-46d7-86b9-805e327b3852",
   "metadata": {},
   "outputs": [],
   "source": [
    "pointbuffered = gpd.sjoin(SSSIs, buffer1km, op='contains', how='inner' )"
   ]
  },
  {
   "cell_type": "code",
   "execution_count": null,
   "id": "89df91c4-e859-4630-9678-d3c97a250abf",
   "metadata": {},
   "outputs": [],
   "source": [
    "pointbuffered.shape"
   ]
  },
  {
   "cell_type": "code",
   "execution_count": null,
   "id": "5347934f",
   "metadata": {},
   "outputs": [],
   "source": [
    "m = leafmap.Map(center=[54,-2], zoom=6, height=\"800px\", width=\"450px\")\n",
    "m.add_gdf(SSSIs, layer_name=\"SSSIs\")\n",
    "m"
   ]
  },
  {
   "cell_type": "code",
   "execution_count": null,
   "id": "837d8223-d5f0-41bc-b4ce-49d47896c526",
   "metadata": {},
   "outputs": [],
   "source": [
    "cols = solar.columns"
   ]
  },
  {
   "cell_type": "code",
   "execution_count": null,
   "id": "a91ac784-9525-439f-b54a-61f9c1553657",
   "metadata": {},
   "outputs": [],
   "source": [
    "SSSI_example = SSSIs.loc[SSSIs['sssi_name'] == 'Taw-Torridge Estuary']\n",
    "# SSSI_example.crs\n",
    "# SSSI_example.head()"
   ]
  },
  {
   "cell_type": "code",
   "execution_count": null,
   "id": "98b3de38-e748-41d6-b544-bbc68b43cca8",
   "metadata": {},
   "outputs": [],
   "source": [
    "fake_solar = pd.read_csv('fake_applications.csv')"
   ]
  },
  {
   "cell_type": "code",
   "execution_count": null,
   "id": "0bbdd98e-1461-4916-89e6-abc503f0b474",
   "metadata": {},
   "outputs": [],
   "source": [
    "fake_solar.head()"
   ]
  },
  {
   "cell_type": "code",
   "execution_count": null,
   "id": "ccfa8cea-1fc5-4f0f-942d-8bd327c62642",
   "metadata": {},
   "outputs": [],
   "source": [
    "fakeGDF = gpd.GeoDataFrame(fake_solar, geometry=gpd.points_from_xy(fake_solar['X'], fake_solar['Y']))  # crs={'init':'epsg:27700'}\n",
    "fakeGDF.shape"
   ]
  },
  {
   "cell_type": "code",
   "execution_count": null,
   "id": "78e7c1ba-d316-4474-bad4-26a8af1d5f21",
   "metadata": {},
   "outputs": [],
   "source": [
    "fakeGDF = fakeGDF.set_crs(epsg=4326, inplace=True)\n"
   ]
  },
  {
   "cell_type": "code",
   "execution_count": null,
   "id": "9b6307b3-15a2-4601-a9d6-78446b4bd3bf",
   "metadata": {},
   "outputs": [],
   "source": [
    "fakeGDF.crs == SSSI_example.crs"
   ]
  },
  {
   "cell_type": "code",
   "execution_count": null,
   "id": "c7e81492-76d0-4f2a-ab53-302b52fd0645",
   "metadata": {},
   "outputs": [],
   "source": [
    "fakeGDF.total_bounds"
   ]
  },
  {
   "cell_type": "code",
   "execution_count": null,
   "id": "57871c8f-f942-42bb-a89c-dc31108c8145",
   "metadata": {},
   "outputs": [],
   "source": [
    "SSSI_example.total_bounds"
   ]
  },
  {
   "cell_type": "code",
   "execution_count": null,
   "id": "fbc756ea-f0dc-4b46-b122-9333f18d6837",
   "metadata": {},
   "outputs": [],
   "source": [
    "fake27700 = fakeGDF.to_crs(epsg=27700)"
   ]
  },
  {
   "cell_type": "code",
   "execution_count": null,
   "id": "71765346-8041-4cef-b28c-3ab6f686ef15",
   "metadata": {},
   "outputs": [],
   "source": [
    "SSSI27700 = SSSI_example.to_crs(epsg=27700)"
   ]
  },
  {
   "cell_type": "code",
   "execution_count": null,
   "id": "dcee5844-1f9b-4ccf-8f4b-2be6a8b2f0bc",
   "metadata": {},
   "outputs": [],
   "source": [
    "SSSI27700.geometry"
   ]
  },
  {
   "cell_type": "code",
   "execution_count": null,
   "id": "0227617b-45fe-4404-b21e-486b4b46acc2",
   "metadata": {},
   "outputs": [],
   "source": [
    "fake27700.geometry"
   ]
  },
  {
   "cell_type": "code",
   "execution_count": null,
   "id": "3d728bf8-bb1d-42da-a9fc-a6cf5399a83b",
   "metadata": {},
   "outputs": [],
   "source": [
    "fake27700.total_bounds"
   ]
  },
  {
   "cell_type": "code",
   "execution_count": null,
   "id": "dcc57d61-a2c3-4d4a-a6a7-44cc1da040f2",
   "metadata": {},
   "outputs": [],
   "source": [
    "SSSI27700.total_bounds"
   ]
  },
  {
   "cell_type": "code",
   "execution_count": null,
   "id": "2594fe74-3a19-41de-87b7-b70577d96320",
   "metadata": {},
   "outputs": [],
   "source": [
    "fig, ax = plt.subplots(figsize=(15, 12))\n",
    "\n",
    "#polyswithpoints.plot(ax = ax, edgecolor='black',  )\n",
    "\n",
    "fake27700.plot(ax=ax, marker='o', color='red', markersize=2)\n",
    "SSSI27700.plot(ax=ax)\n",
    "\n",
    "plt.show()"
   ]
  },
  {
   "cell_type": "code",
   "execution_count": null,
   "id": "3cf2ea97-7bd6-4656-af71-076114f840d0",
   "metadata": {},
   "outputs": [],
   "source": []
  },
  {
   "cell_type": "code",
   "execution_count": null,
   "id": "7b096108-2f93-4f37-b15b-dc178bdd0663",
   "metadata": {},
   "outputs": [],
   "source": []
  }
 ],
 "metadata": {
  "kernelspec": {
   "display_name": "Python 3",
   "language": "python",
   "name": "python3"
  },
  "language_info": {
   "codemirror_mode": {
    "name": "ipython",
    "version": 3
   },
   "file_extension": ".py",
   "mimetype": "text/x-python",
   "name": "python",
   "nbconvert_exporter": "python",
   "pygments_lexer": "ipython3",
   "version": "3.7.10"
  }
 },
 "nbformat": 4,
 "nbformat_minor": 5
}
