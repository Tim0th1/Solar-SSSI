{
 "cells": [
  {
   "cell_type": "markdown",
   "id": "91dc8256-e918-4a12-866f-c0ddbfb3f076",
   "metadata": {
    "tags": []
   },
   "source": [
    "# Solar Farm Applications in Nature Reserves(SSSI)"
   ]
  },
  {
   "cell_type": "code",
   "execution_count": 1,
   "id": "dfec21f1-8e3d-453d-992d-177b724e4e33",
   "metadata": {},
   "outputs": [],
   "source": [
    "import leafmap\n",
    "import pandas as pd\n",
    "import geopandas as gpd\n",
    "from geopandas import GeoDataFrame, overlay\n",
    "from shapely.geometry import Point\n",
    "import matplotlib.pyplot as plt\n",
    "\n",
    "from datetime import date\n",
    "from dateutil.relativedelta import relativedelta\n",
    "\n",
    "\n"
   ]
  },
  {
   "cell_type": "code",
   "execution_count": 2,
   "id": "0d2842b1-4a8f-4c15-9114-2dacc3db455c",
   "metadata": {},
   "outputs": [
    {
     "name": "stdout",
     "output_type": "stream",
     "text": [
      "Python 3.8.12\n"
     ]
    }
   ],
   "source": [
    "!python --version"
   ]
  },
  {
   "cell_type": "markdown",
   "id": "7e07501e-c6ab-4716-9b70-99a54420fefd",
   "metadata": {
    "tags": []
   },
   "source": [
    "### Set the date range for the API call:\n"
   ]
  },
  {
   "cell_type": "code",
   "execution_count": 3,
   "id": "b7ef1c50-87b0-4a47-ac28-90bbcbee4934",
   "metadata": {},
   "outputs": [],
   "source": [
    "\n",
    "today = date.today()\n",
    "today = today.strftime('%Y-%m-%d')\n",
    "three_months_ago = date.today() + relativedelta(months=-3)\n",
    "three_months_ago = three_months_ago.strftime('%Y-%m-%d')"
   ]
  },
  {
   "cell_type": "markdown",
   "id": "c691c35b-4056-4125-8f98-925aaa23582f",
   "metadata": {
    "tags": []
   },
   "source": [
    "### Get dataframe from API"
   ]
  },
  {
   "cell_type": "code",
   "execution_count": 4,
   "id": "2bf21e64-216c-4b64-98bf-092fedd16eaf",
   "metadata": {},
   "outputs": [
    {
     "data": {
      "text/html": [
       "<div>\n",
       "<style scoped>\n",
       "    .dataframe tbody tr th:only-of-type {\n",
       "        vertical-align: middle;\n",
       "    }\n",
       "\n",
       "    .dataframe tbody tr th {\n",
       "        vertical-align: top;\n",
       "    }\n",
       "\n",
       "    .dataframe thead th {\n",
       "        text-align: right;\n",
       "    }\n",
       "</style>\n",
       "<table border=\"1\" class=\"dataframe\">\n",
       "  <thead>\n",
       "    <tr style=\"text-align: right;\">\n",
       "      <th></th>\n",
       "      <th>name</th>\n",
       "      <th>uid</th>\n",
       "      <th>scraper_name</th>\n",
       "      <th>description</th>\n",
       "      <th>address</th>\n",
       "      <th>postcode</th>\n",
       "      <th>url</th>\n",
       "      <th>associated_id</th>\n",
       "      <th>app_size</th>\n",
       "      <th>app_state</th>\n",
       "      <th>...</th>\n",
       "      <th>other_fields.meeting_date</th>\n",
       "      <th>other_fields.agent_tel</th>\n",
       "      <th>other_fields.appeal_result</th>\n",
       "      <th>other_fields.decision_date</th>\n",
       "      <th>other_fields.decision_issued_date</th>\n",
       "      <th>other_fields.development_type</th>\n",
       "      <th>other_fields.first_advertised_date</th>\n",
       "      <th>other_fields.permission_expires_date</th>\n",
       "      <th>other_fields.applicant_company</th>\n",
       "      <th>other_fields.decision_published_date</th>\n",
       "    </tr>\n",
       "  </thead>\n",
       "  <tbody>\n",
       "    <tr>\n",
       "      <th>0</th>\n",
       "      <td>Ashfield/V/2021/0745</td>\n",
       "      <td>V/2021/0745</td>\n",
       "      <td>Ashfield</td>\n",
       "      <td>Solar panel installation car park 1</td>\n",
       "      <td>Sutton Community Academy, Sutton Centre, High ...</td>\n",
       "      <td>NG17 1EE</td>\n",
       "      <td>https://planning.ashfield.gov.uk/planning-appl...</td>\n",
       "      <td>None</td>\n",
       "      <td>Small</td>\n",
       "      <td>Undecided</td>\n",
       "      <td>...</td>\n",
       "      <td>NaN</td>\n",
       "      <td>NaN</td>\n",
       "      <td>NaN</td>\n",
       "      <td>NaN</td>\n",
       "      <td>NaN</td>\n",
       "      <td>NaN</td>\n",
       "      <td>NaN</td>\n",
       "      <td>NaN</td>\n",
       "      <td>NaN</td>\n",
       "      <td>NaN</td>\n",
       "    </tr>\n",
       "    <tr>\n",
       "      <th>1</th>\n",
       "      <td>DorsetCouncil/P/HOU/2021/03594</td>\n",
       "      <td>P/HOU/2021/03594</td>\n",
       "      <td>DorsetCouncil</td>\n",
       "      <td>Change of Use and erection of a household grou...</td>\n",
       "      <td>Higher Barton Cottage Compton Road Over Compto...</td>\n",
       "      <td>DT9 4QY</td>\n",
       "      <td>https://planning.dorsetcouncil.gov.uk/plandisp...</td>\n",
       "      <td>None</td>\n",
       "      <td>Small</td>\n",
       "      <td>Undecided</td>\n",
       "      <td>...</td>\n",
       "      <td>NaN</td>\n",
       "      <td>NaN</td>\n",
       "      <td>NaN</td>\n",
       "      <td>NaN</td>\n",
       "      <td>NaN</td>\n",
       "      <td>NaN</td>\n",
       "      <td>NaN</td>\n",
       "      <td>NaN</td>\n",
       "      <td>NaN</td>\n",
       "      <td>NaN</td>\n",
       "    </tr>\n",
       "    <tr>\n",
       "      <th>2</th>\n",
       "      <td>Ashfield/V/2021/0746</td>\n",
       "      <td>V/2021/0746</td>\n",
       "      <td>Ashfield</td>\n",
       "      <td>Solar panels installation car park 2</td>\n",
       "      <td>Sutton Community Academy, Sutton Centre, High ...</td>\n",
       "      <td>NG17 1EE</td>\n",
       "      <td>https://planning.ashfield.gov.uk/planning-appl...</td>\n",
       "      <td>None</td>\n",
       "      <td>Small</td>\n",
       "      <td>Undecided</td>\n",
       "      <td>...</td>\n",
       "      <td>NaN</td>\n",
       "      <td>NaN</td>\n",
       "      <td>NaN</td>\n",
       "      <td>NaN</td>\n",
       "      <td>NaN</td>\n",
       "      <td>NaN</td>\n",
       "      <td>NaN</td>\n",
       "      <td>NaN</td>\n",
       "      <td>NaN</td>\n",
       "      <td>NaN</td>\n",
       "    </tr>\n",
       "    <tr>\n",
       "      <th>3</th>\n",
       "      <td>NorthNorfolk/IS3/21/2743</td>\n",
       "      <td>IS3/21/2743</td>\n",
       "      <td>NorthNorfolk</td>\n",
       "      <td>Installation of solar panels on south facing p...</td>\n",
       "      <td>Friday Cottage 7 Friday Market Place Walsingha...</td>\n",
       "      <td>NR22 6DB</td>\n",
       "      <td>https://idoxpa.north-norfolk.gov.uk/online-app...</td>\n",
       "      <td>None</td>\n",
       "      <td>Small</td>\n",
       "      <td>Undecided</td>\n",
       "      <td>...</td>\n",
       "      <td>NaN</td>\n",
       "      <td>NaN</td>\n",
       "      <td>NaN</td>\n",
       "      <td>NaN</td>\n",
       "      <td>NaN</td>\n",
       "      <td>NaN</td>\n",
       "      <td>NaN</td>\n",
       "      <td>NaN</td>\n",
       "      <td>NaN</td>\n",
       "      <td>NaN</td>\n",
       "    </tr>\n",
       "    <tr>\n",
       "      <th>4</th>\n",
       "      <td>Ashfield/V/2021/0744</td>\n",
       "      <td>V/2021/0744</td>\n",
       "      <td>Ashfield</td>\n",
       "      <td>Imstallation of solar panels - car park 3</td>\n",
       "      <td>Sutton Community Academy, Sutton Centre, High ...</td>\n",
       "      <td>NG17 1EE</td>\n",
       "      <td>https://planning.ashfield.gov.uk/planning-appl...</td>\n",
       "      <td>None</td>\n",
       "      <td>Small</td>\n",
       "      <td>Undecided</td>\n",
       "      <td>...</td>\n",
       "      <td>NaN</td>\n",
       "      <td>NaN</td>\n",
       "      <td>NaN</td>\n",
       "      <td>NaN</td>\n",
       "      <td>NaN</td>\n",
       "      <td>NaN</td>\n",
       "      <td>NaN</td>\n",
       "      <td>NaN</td>\n",
       "      <td>NaN</td>\n",
       "      <td>NaN</td>\n",
       "    </tr>\n",
       "  </tbody>\n",
       "</table>\n",
       "<p>5 rows × 83 columns</p>\n",
       "</div>"
      ],
      "text/plain": [
       "                             name               uid   scraper_name  \\\n",
       "0            Ashfield/V/2021/0745       V/2021/0745       Ashfield   \n",
       "1  DorsetCouncil/P/HOU/2021/03594  P/HOU/2021/03594  DorsetCouncil   \n",
       "2            Ashfield/V/2021/0746       V/2021/0746       Ashfield   \n",
       "3        NorthNorfolk/IS3/21/2743       IS3/21/2743   NorthNorfolk   \n",
       "4            Ashfield/V/2021/0744       V/2021/0744       Ashfield   \n",
       "\n",
       "                                         description  \\\n",
       "0                Solar panel installation car park 1   \n",
       "1  Change of Use and erection of a household grou...   \n",
       "2               Solar panels installation car park 2   \n",
       "3  Installation of solar panels on south facing p...   \n",
       "4          Imstallation of solar panels - car park 3   \n",
       "\n",
       "                                             address  postcode  \\\n",
       "0  Sutton Community Academy, Sutton Centre, High ...  NG17 1EE   \n",
       "1  Higher Barton Cottage Compton Road Over Compto...   DT9 4QY   \n",
       "2  Sutton Community Academy, Sutton Centre, High ...  NG17 1EE   \n",
       "3  Friday Cottage 7 Friday Market Place Walsingha...  NR22 6DB   \n",
       "4  Sutton Community Academy, Sutton Centre, High ...  NG17 1EE   \n",
       "\n",
       "                                                 url associated_id app_size  \\\n",
       "0  https://planning.ashfield.gov.uk/planning-appl...          None    Small   \n",
       "1  https://planning.dorsetcouncil.gov.uk/plandisp...          None    Small   \n",
       "2  https://planning.ashfield.gov.uk/planning-appl...          None    Small   \n",
       "3  https://idoxpa.north-norfolk.gov.uk/online-app...          None    Small   \n",
       "4  https://planning.ashfield.gov.uk/planning-appl...          None    Small   \n",
       "\n",
       "   app_state  ... other_fields.meeting_date other_fields.agent_tel  \\\n",
       "0  Undecided  ...                       NaN                    NaN   \n",
       "1  Undecided  ...                       NaN                    NaN   \n",
       "2  Undecided  ...                       NaN                    NaN   \n",
       "3  Undecided  ...                       NaN                    NaN   \n",
       "4  Undecided  ...                       NaN                    NaN   \n",
       "\n",
       "  other_fields.appeal_result other_fields.decision_date  \\\n",
       "0                        NaN                        NaN   \n",
       "1                        NaN                        NaN   \n",
       "2                        NaN                        NaN   \n",
       "3                        NaN                        NaN   \n",
       "4                        NaN                        NaN   \n",
       "\n",
       "  other_fields.decision_issued_date other_fields.development_type  \\\n",
       "0                               NaN                           NaN   \n",
       "1                               NaN                           NaN   \n",
       "2                               NaN                           NaN   \n",
       "3                               NaN                           NaN   \n",
       "4                               NaN                           NaN   \n",
       "\n",
       "  other_fields.first_advertised_date other_fields.permission_expires_date  \\\n",
       "0                                NaN                                  NaN   \n",
       "1                                NaN                                  NaN   \n",
       "2                                NaN                                  NaN   \n",
       "3                                NaN                                  NaN   \n",
       "4                                NaN                                  NaN   \n",
       "\n",
       "   other_fields.applicant_company other_fields.decision_published_date  \n",
       "0                             NaN                                  NaN  \n",
       "1                             NaN                                  NaN  \n",
       "2                             NaN                                  NaN  \n",
       "3                             NaN                                  NaN  \n",
       "4                             NaN                                  NaN  \n",
       "\n",
       "[5 rows x 83 columns]"
      ]
     },
     "execution_count": 4,
     "metadata": {},
     "output_type": "execute_result"
    }
   ],
   "source": [
    "# https://www.planit.org.uk/api/\n",
    "\n",
    "df=pd.read_json('https://www.planit.org.uk/api/applics/json?start_date='+ three_months_ago +'&'+ 'end_date=' + today +'&search=solar&compress=on')\n",
    "\n",
    "\n",
    "# extract new dataframe from dictionary of records\n",
    "\n",
    "solar = pd.json_normalize(df['records'])\n",
    "solar.head()"
   ]
  },
  {
   "cell_type": "code",
   "execution_count": 5,
   "id": "8c430e78-6f5d-4f9f-b7e8-4f8a6d47899b",
   "metadata": {},
   "outputs": [
    {
     "data": {
      "text/plain": [
       "(1020, 83)"
      ]
     },
     "execution_count": 5,
     "metadata": {},
     "output_type": "execute_result"
    }
   ],
   "source": [
    "solar.shape\n",
    "#solar.to_csv('solar.csv')"
   ]
  },
  {
   "cell_type": "markdown",
   "id": "ca790ea2-c6ab-436f-ad4f-b35bad10fc2e",
   "metadata": {
    "tags": []
   },
   "source": [
    "### Filtering the data"
   ]
  },
  {
   "cell_type": "code",
   "execution_count": 6,
   "id": "5303bc18-86f2-448b-8ed4-94c72a399a05",
   "metadata": {},
   "outputs": [],
   "source": [
    "solar['description'] = solar['description'].str.lower() "
   ]
  },
  {
   "cell_type": "code",
   "execution_count": 7,
   "id": "2bfea5bd-b126-455c-bffd-3c2f7cbdceb3",
   "metadata": {},
   "outputs": [
    {
     "data": {
      "text/plain": [
       "(521, 83)"
      ]
     },
     "execution_count": 7,
     "metadata": {},
     "output_type": "execute_result"
    }
   ],
   "source": [
    "# exclude (!consider risks)\n",
    "\n",
    "my_exclusions = ['residential', 'roof']\n",
    "pattern = '|'.join(my_exclusions)\n",
    "\n",
    "solar_excluded = solar.loc[~solar['description'].str.contains(pattern)]\n",
    "# solar = solar[(~solar['description'].str.contains('roof'))] #residential\n",
    "# solar.shape\n",
    "solar_excluded.shape"
   ]
  },
  {
   "cell_type": "code",
   "execution_count": 8,
   "id": "6fc410f0-7f3e-4ca8-95a7-36d73070385b",
   "metadata": {
    "tags": []
   },
   "outputs": [],
   "source": [
    "mylist = ['watts', 'mega', 'solar park', 'land '] # land is poor discriminator!\n",
    "pattern = '|'.join(mylist)\n",
    "\n",
    "solar_parks = solar_excluded.loc[solar_excluded['description'].str.contains(pattern)]"
   ]
  },
  {
   "cell_type": "code",
   "execution_count": 9,
   "id": "f191e01d-0501-411a-8ada-087e43018e99",
   "metadata": {},
   "outputs": [],
   "source": [
    "# include without the excludes\n",
    "\n",
    "# mylist = ['watts', 'mega', 'solar park', 'land '] # land is poor discriminator!\n",
    "# pattern = '|'.join(mylist)\n",
    "\n",
    "# solar_parks = solar.loc[solar['description'].str.contains(pattern)]"
   ]
  },
  {
   "cell_type": "code",
   "execution_count": 10,
   "id": "1bc570f7-718c-4161-bac5-34f511af86ec",
   "metadata": {},
   "outputs": [
    {
     "data": {
      "text/plain": [
       "(39, 83)"
      ]
     },
     "execution_count": 10,
     "metadata": {},
     "output_type": "execute_result"
    }
   ],
   "source": [
    "solar_parks.shape"
   ]
  },
  {
   "cell_type": "code",
   "execution_count": 11,
   "id": "ae38e308-697a-4c85-ab87-53a2d4146496",
   "metadata": {},
   "outputs": [
    {
     "data": {
      "text/plain": [
       "6                                                                                                                                                                                        screening opinion under the environment impact assessment regulations 2017 - installation of two new supporting towers along the andover-amesbury circuit providing a connection to solar farm on land at hatherden farm\n",
       "11                                           works to facilitate the repair, restoration and alterations of existing barns to provide recreational facilities and erection of a free standing pool building linked to the barns, installation of ground source heat pumps and solar panel array, change of use of land to domestic curtilage, alterations to access and installation of a package treatment plant\n",
       "14     works to facilitate the repair, restoration and alterations of existing barns to provide recreational facilities and erection of a free standing pool building linked to the barns, installation of ground source heat pumps and solar panel array, change of use of land to domestic curtilage, alterations to access and installation of a package treatment plant affecting a grade ii* listed building\n",
       "72                                                                                                                                                             discharge condition 11 (cemp) of planning consent 19/0823/ncc (vary condition 3 of planning consent 18/0626/dns (welsh ministers consent dns3213639) (provide solar park, access and ancillary development) to amend the wording of the condition)\n",
       "98                                                                                                                                                      discharge condition 12 (access road) of planning consent 19/0823/ncc (vary condition 3 of planning consent 18/0626/dns (welsh ministers consent dns3213639) (provide solar park, access and ancillary development) to amend the wording of the condition)\n",
       "120                                                                                                                                                                                                                                                                                                          retention of change of use of land for siting of 5.5kw ground mounted solar panel photovoltaic array\n",
       "130                                                                                                            environmental impact assessment (eia) screening opinion in accordance with regulation 6 of the town and country planning (environmental impact assessment) regulations 2017, as amended1 from hart district council (hdc) with regard to the proposed solar farm on land at kiln fields, heckfield\n",
       "188                                                                                                                                                      discharge condition 9 (landscaping) of planning consent 19/0823/ncc (vary condition 3 of planning consent 18/0626/dns (welsh ministers consent dns3213639) (provide solar park, access and ancillary development) to amend the wording of the condition)\n",
       "193                                                                                                                                                                                                              installation of a solar park to export up to 13 mw (ac) electricity, comprising up to 31,100 photovoltaic panels, 7 inverter/transformer cabins, a single control building and associated works.\n",
       "202                                                                                                                                                                                                                                                             proposed development of a photovoltaic solar park and associated infrastructure. (this may affect the setting of a listed building) ava/2020/1224\n",
       "Name: description, dtype: object"
      ]
     },
     "execution_count": 11,
     "metadata": {},
     "output_type": "execute_result"
    }
   ],
   "source": [
    "pd.set_option('max_colwidth', 400)\n",
    "\n",
    "solar_parks.description.head(10)"
   ]
  },
  {
   "cell_type": "code",
   "execution_count": 29,
   "id": "ae950186-c5dc-4f3d-b99a-61bc5f1817c2",
   "metadata": {},
   "outputs": [],
   "source": [
    "# caution: choose which filtered list to use for analysis:\n",
    "#following analysis uses 'solar' so set your filtered list to that\n",
    "\n",
    "solar = solar_parks \n",
    "\n"
   ]
  },
  {
   "cell_type": "markdown",
   "id": "4e952c0d-5f5d-4607-a9da-eea2fc40ae42",
   "metadata": {
    "tags": []
   },
   "source": [
    "### Issues with missing spatial columns"
   ]
  },
  {
   "cell_type": "code",
   "execution_count": 30,
   "id": "4d422456-0b1e-4166-a866-34d4e66fc0b3",
   "metadata": {},
   "outputs": [
    {
     "name": "stdout",
     "output_type": "stream",
     "text": [
      "(9, 83)\n"
     ]
    }
   ],
   "source": [
    "# get me the entries without any spatial data\n",
    "missing_spatials = ['postcode', 'location_x', 'location_y', 'other_fields.lat', 'other_fields.lng', 'other_fields.easting', 'other_fields.northing']\n",
    "\n",
    "\n",
    "solar_invisible = solar[solar[missing_spatials].isna().all(1)]\n",
    "print(solar_invisible.shape)\n",
    "#solar_invisible.shape"
   ]
  },
  {
   "cell_type": "code",
   "execution_count": 31,
   "id": "08232ec6-ddc3-44a5-a4a8-7fde180e2ff0",
   "metadata": {},
   "outputs": [],
   "source": [
    "# make a csv of cases with hyperlinks for their geography\n",
    "\n",
    "#header = ['postcode', 'description', 'location_x', 'location_y', 'other_fields.lat', 'other_fields.lng', 'other_fields.easting', 'other_fields.northing']\n",
    "solar_invisible.to_csv('solar_invisible.csv') #columns = header"
   ]
  },
  {
   "cell_type": "markdown",
   "id": "d82cbed2-4d97-4cfd-84e6-d0fb1fb74bfa",
   "metadata": {
    "tags": []
   },
   "source": [
    "### Fix geometries for cases that can be fixed quickly"
   ]
  },
  {
   "cell_type": "code",
   "execution_count": 33,
   "id": "2cc55bf7-670d-43e3-8058-f52b3862452e",
   "metadata": {},
   "outputs": [
    {
     "data": {
      "text/plain": [
       "[-1.878687, 51.63884]"
      ]
     },
     "execution_count": 33,
     "metadata": {},
     "output_type": "execute_result"
    }
   ],
   "source": [
    "# choosing column with max chance of simple fix for geography\n",
    "solar['location.coordinates'].iloc[8]"
   ]
  },
  {
   "cell_type": "code",
   "execution_count": 34,
   "id": "3831fff8-74c1-47f8-98b6-6d5dddbb0f3a",
   "metadata": {},
   "outputs": [
    {
     "name": "stderr",
     "output_type": "stream",
     "text": [
      "/home/tim/.local/lib/python3.8/site-packages/pandas/core/frame.py:3641: SettingWithCopyWarning: \n",
      "A value is trying to be set on a copy of a slice from a DataFrame.\n",
      "Try using .loc[row_indexer,col_indexer] = value instead\n",
      "\n",
      "See the caveats in the documentation: https://pandas.pydata.org/pandas-docs/stable/user_guide/indexing.html#returning-a-view-versus-a-copy\n",
      "  self[k1] = value[k2]\n"
     ]
    }
   ],
   "source": [
    "# split out location coordinates into two cols\n",
    "\n",
    "# handle missing values (i.e. possible cases will be missing)\n",
    "dropped = solar['location.coordinates'].dropna()\n",
    "solar[['X', 'Y']] = pd.DataFrame(dropped.tolist(), index=dropped.index)"
   ]
  },
  {
   "cell_type": "code",
   "execution_count": 36,
   "id": "72329295-6877-46e4-aa77-7dda15adcfaa",
   "metadata": {},
   "outputs": [
    {
     "data": {
      "text/plain": [
       "(39, 85)"
      ]
     },
     "execution_count": 36,
     "metadata": {},
     "output_type": "execute_result"
    }
   ],
   "source": [
    "solar.shape"
   ]
  },
  {
   "cell_type": "code",
   "execution_count": 37,
   "id": "04d6144d-b3dd-4d6b-bd7c-ba9ed95e872b",
   "metadata": {},
   "outputs": [],
   "source": [
    "# drop cases where geography is missing\n",
    "\n",
    "solar = solar.dropna(subset = ['X', 'Y'])"
   ]
  },
  {
   "cell_type": "code",
   "execution_count": 38,
   "id": "31ae8a4d-3d7a-4805-9f97-5b6b5eca09af",
   "metadata": {},
   "outputs": [
    {
     "data": {
      "text/plain": [
       "(30, 85)"
      ]
     },
     "execution_count": 38,
     "metadata": {},
     "output_type": "execute_result"
    }
   ],
   "source": [
    "solar.shape"
   ]
  },
  {
   "cell_type": "markdown",
   "id": "557ca108-912f-4f9e-8cf9-ae5292affe63",
   "metadata": {
    "tags": []
   },
   "source": [
    "### Get the Nature reserve mapping SSSIs"
   ]
  },
  {
   "cell_type": "code",
   "execution_count": 39,
   "id": "68392baf-f6c5-4cae-a3d3-9b6ef33bb93f",
   "metadata": {},
   "outputs": [],
   "source": [
    "# attribution: UK Department of Environment Food & Rural Affairs\n",
    "# https://environment.data.gov.uk/DefraDataDownload/?mapService=NE/SitesOfSpecialScientificInterestEngland&Mode=spatial\n",
    "\n",
    "SSSIs = gpd.read_file(\"data/Sites_of_Special_Scientific_Interest_England.shp\")\n",
    "#SSSIs.set_index(['geometry'])"
   ]
  },
  {
   "cell_type": "code",
   "execution_count": 40,
   "id": "73ccaa48-83f4-40d2-bbd5-2dc11dc4c00d",
   "metadata": {},
   "outputs": [
    {
     "data": {
      "text/html": [
       "<div>\n",
       "<style scoped>\n",
       "    .dataframe tbody tr th:only-of-type {\n",
       "        vertical-align: middle;\n",
       "    }\n",
       "\n",
       "    .dataframe tbody tr th {\n",
       "        vertical-align: top;\n",
       "    }\n",
       "\n",
       "    .dataframe thead th {\n",
       "        text-align: right;\n",
       "    }\n",
       "</style>\n",
       "<table border=\"1\" class=\"dataframe\">\n",
       "  <thead>\n",
       "    <tr style=\"text-align: right;\">\n",
       "      <th></th>\n",
       "      <th>sssi_name</th>\n",
       "      <th>sssi_area</th>\n",
       "      <th>easting</th>\n",
       "      <th>northing</th>\n",
       "      <th>latitude</th>\n",
       "      <th>longitude</th>\n",
       "      <th>reference</th>\n",
       "      <th>status</th>\n",
       "      <th>gid</th>\n",
       "      <th>ensisid</th>\n",
       "      <th>gis_file</th>\n",
       "      <th>area</th>\n",
       "      <th>easting0</th>\n",
       "      <th>northing0</th>\n",
       "      <th>gis_date</th>\n",
       "      <th>version</th>\n",
       "      <th>st_area_sh</th>\n",
       "      <th>st_perimet</th>\n",
       "      <th>geometry</th>\n",
       "    </tr>\n",
       "  </thead>\n",
       "  <tbody>\n",
       "    <tr>\n",
       "      <th>0</th>\n",
       "      <td>Allen Confluence Gravels</td>\n",
       "      <td>4.777198</td>\n",
       "      <td>379993.104106</td>\n",
       "      <td>558767.08019</td>\n",
       "      <td>54:55:23N</td>\n",
       "      <td>2:19:10W</td>\n",
       "      <td>NY799587</td>\n",
       "      <td>Notified</td>\n",
       "      <td>1003435.0</td>\n",
       "      <td>1005624.0</td>\n",
       "      <td>None</td>\n",
       "      <td>4.777198</td>\n",
       "      <td>379993.104106</td>\n",
       "      <td>558767.08019</td>\n",
       "      <td>20031218</td>\n",
       "      <td>1.0</td>\n",
       "      <td>47771.979838</td>\n",
       "      <td>1957.148648</td>\n",
       "      <td>POLYGON ((380021.211 558598.082, 380011.202 558601.101, 380001.868 558605.190, 379985.798 558610.799, 379973.497 558613.098, 379956.199 558614.198, 379952.299 558614.098, 379936.699 558612.298, 379914.899 558609.199, 379896.702 558609.199, 379888.202 558609.699, 379878.901 558610.699, 379829.398 558618.876, 379813.304 558614.897, 379784.899 558610.479, 379769.596 558608.299, 379763.899 558608....</td>\n",
       "    </tr>\n",
       "  </tbody>\n",
       "</table>\n",
       "</div>"
      ],
      "text/plain": [
       "                  sssi_name  sssi_area        easting      northing  \\\n",
       "0  Allen Confluence Gravels   4.777198  379993.104106  558767.08019   \n",
       "\n",
       "    latitude longitude reference    status        gid    ensisid gis_file  \\\n",
       "0  54:55:23N  2:19:10W  NY799587  Notified  1003435.0  1005624.0     None   \n",
       "\n",
       "       area       easting0     northing0  gis_date  version    st_area_sh  \\\n",
       "0  4.777198  379993.104106  558767.08019  20031218      1.0  47771.979838   \n",
       "\n",
       "    st_perimet  \\\n",
       "0  1957.148648   \n",
       "\n",
       "                                                                                                                                                                                                                                                                                                                                                                                                          geometry  \n",
       "0  POLYGON ((380021.211 558598.082, 380011.202 558601.101, 380001.868 558605.190, 379985.798 558610.799, 379973.497 558613.098, 379956.199 558614.198, 379952.299 558614.098, 379936.699 558612.298, 379914.899 558609.199, 379896.702 558609.199, 379888.202 558609.699, 379878.901 558610.699, 379829.398 558618.876, 379813.304 558614.897, 379784.899 558610.479, 379769.596 558608.299, 379763.899 558608....  "
      ]
     },
     "execution_count": 40,
     "metadata": {},
     "output_type": "execute_result"
    }
   ],
   "source": [
    "SSSIs.head(1)\n"
   ]
  },
  {
   "cell_type": "code",
   "execution_count": 41,
   "id": "860b5cd0-8976-42fb-a063-f644c1b5005e",
   "metadata": {},
   "outputs": [],
   "source": [
    "# SSSIs.dtypes"
   ]
  },
  {
   "cell_type": "code",
   "execution_count": 42,
   "id": "5af5fb5c-651b-4f2c-a96b-23b6f988fa34",
   "metadata": {},
   "outputs": [],
   "source": [
    "# SSSIs.crs"
   ]
  },
  {
   "cell_type": "code",
   "execution_count": 43,
   "id": "1d3da062-393a-46d3-a834-f9a10fcbc359",
   "metadata": {},
   "outputs": [],
   "source": [
    "# SSSIs.total_bounds"
   ]
  },
  {
   "cell_type": "markdown",
   "id": "1a30e3ad-722a-4ade-ae80-94323a07d5cd",
   "metadata": {
    "tags": []
   },
   "source": [
    "### Working towards plot of all applications and likely solar park applications in SSSIs"
   ]
  },
  {
   "cell_type": "code",
   "execution_count": 44,
   "id": "2eac58a3-b17b-47f0-9f3f-101f3d6e8c08",
   "metadata": {},
   "outputs": [
    {
     "name": "stdout",
     "output_type": "stream",
     "text": [
      "Solar applications: complete list = 30 , filtered list = 39\n"
     ]
    }
   ],
   "source": [
    "\n",
    "\n",
    "print('Solar applications: complete list =', solar.shape[0], ', filtered list =', solar_parks.shape[0])"
   ]
  },
  {
   "cell_type": "code",
   "execution_count": 45,
   "id": "f87f6c3c-a294-4872-adc9-800959e4b58d",
   "metadata": {},
   "outputs": [
    {
     "data": {
      "text/plain": [
       "(30, 86)"
      ]
     },
     "execution_count": 45,
     "metadata": {},
     "output_type": "execute_result"
    }
   ],
   "source": [
    "solarGDF = gpd.GeoDataFrame(solar, geometry=gpd.points_from_xy(solar['X'], solar['Y']))  # crs={'init':'epsg:27700'}\n",
    "solarGDF.shape"
   ]
  },
  {
   "cell_type": "code",
   "execution_count": 46,
   "id": "71a71a11-fa41-4b7f-a255-a0435d9dff96",
   "metadata": {},
   "outputs": [],
   "source": [
    "# solarGDF.total_bounds"
   ]
  },
  {
   "cell_type": "code",
   "execution_count": 47,
   "id": "f3abe1f4-2c79-4de7-b696-557896bfee5b",
   "metadata": {},
   "outputs": [],
   "source": [
    "solarGDF = solarGDF.set_crs(epsg=4326, inplace=True)\n"
   ]
  },
  {
   "cell_type": "code",
   "execution_count": 48,
   "id": "318c146c-6956-4a8b-a52e-a586c6ef1d73",
   "metadata": {},
   "outputs": [],
   "source": [
    "# solarGDF.total_bounds"
   ]
  },
  {
   "cell_type": "code",
   "execution_count": 49,
   "id": "1cf84e01-e683-4881-a056-de5e52430245",
   "metadata": {},
   "outputs": [
    {
     "data": {
      "text/plain": [
       "array([183555.28559353,  54075.98224614, 646483.41794618, 669916.45790296])"
      ]
     },
     "execution_count": 49,
     "metadata": {},
     "output_type": "execute_result"
    }
   ],
   "source": [
    "solar27700 = solarGDF.to_crs(epsg=27700)\n",
    "solar27700.total_bounds"
   ]
  },
  {
   "cell_type": "code",
   "execution_count": 50,
   "id": "3c383ce6-3533-406d-a971-5833c615b2f7",
   "metadata": {},
   "outputs": [],
   "source": [
    "# solarGDF['geometry'] = solarGDF.geometry.buffer(50000)"
   ]
  },
  {
   "cell_type": "code",
   "execution_count": 51,
   "id": "63c4a872-98f0-406f-8d80-bddc74540726",
   "metadata": {},
   "outputs": [],
   "source": [
    "# solarGDF.head(1)"
   ]
  },
  {
   "cell_type": "code",
   "execution_count": 52,
   "id": "a78dfaf9-5191-4f5c-99b0-a6d20366d24b",
   "metadata": {},
   "outputs": [],
   "source": [
    "# solar27700.shape"
   ]
  },
  {
   "cell_type": "code",
   "execution_count": 53,
   "id": "a5edc4a8-5d7c-488e-a4eb-a19e23d9de60",
   "metadata": {},
   "outputs": [],
   "source": [
    "# fig, ax = plt.subplots(figsize=(20, 16))\n",
    "\n",
    "# SSSIs.plot(ax = ax, edgecolor='black',  )\n",
    "\n",
    "# solar27700.plot(ax=ax, marker='o', color='red', markersize=2)\n",
    "\n",
    "# plt.show()"
   ]
  },
  {
   "cell_type": "code",
   "execution_count": 54,
   "id": "e4acf7d1-4066-45cf-96b2-9afd01c429ff",
   "metadata": {},
   "outputs": [],
   "source": [
    "pointinpolys = gpd.sjoin(SSSIs, solar27700, predicate='contains', how='inner' ) # "
   ]
  },
  {
   "cell_type": "code",
   "execution_count": 55,
   "id": "23be2193-2501-4c80-8464-cbd8d133b095",
   "metadata": {},
   "outputs": [
    {
     "data": {
      "text/plain": [
       "(1, 105)"
      ]
     },
     "execution_count": 55,
     "metadata": {},
     "output_type": "execute_result"
    }
   ],
   "source": [
    "pointinpolys.shape"
   ]
  },
  {
   "cell_type": "code",
   "execution_count": 56,
   "id": "ccda8148-6f39-4114-9e22-8816a07e4abc",
   "metadata": {},
   "outputs": [],
   "source": [
    "polyswithpoints = gpd.sjoin(solar27700, SSSIs, predicate='within', how='inner')"
   ]
  },
  {
   "cell_type": "code",
   "execution_count": 57,
   "id": "ffa64079-dd34-461f-810d-b88729ed4432",
   "metadata": {},
   "outputs": [
    {
     "data": {
      "text/plain": [
       "(1, 105)"
      ]
     },
     "execution_count": 57,
     "metadata": {},
     "output_type": "execute_result"
    }
   ],
   "source": [
    "polyswithpoints.shape"
   ]
  },
  {
   "cell_type": "code",
   "execution_count": 58,
   "id": "503749d3-0176-4815-8186-0ee3d783503f",
   "metadata": {},
   "outputs": [
    {
     "data": {
      "application/vnd.jupyter.widget-view+json": {
       "model_id": "1889099cba8e4125af219972868f5a7e",
       "version_major": 2,
       "version_minor": 0
      },
      "text/plain": [
       "Map(center=[50.5, -4], controls=(ZoomControl(options=['position', 'zoom_in_text', 'zoom_in_title', 'zoom_out_t…"
      ]
     },
     "metadata": {},
     "output_type": "display_data"
    }
   ],
   "source": [
    "m = leafmap.Map(center=[50.5,-4], zoom=8, height=\"700px\", width=\"700px\")\n",
    "m.add_gdf(pointinpolys, layer_name=\"SSSIs with solar planning applications\")\n",
    "m.add_gdf(polyswithpoints, layer_name=\"solar planning applications\")\n",
    "m\n",
    "\n",
    "# this map currently plots any application for 'solar' that lands inside an SSSI"
   ]
  },
  {
   "cell_type": "code",
   "execution_count": null,
   "id": "4e445367-9f7b-4320-941f-671b3d7fd740",
   "metadata": {},
   "outputs": [],
   "source": []
  },
  {
   "cell_type": "markdown",
   "id": "28731249-9a8b-44c0-8908-e2f0673f004e",
   "metadata": {
    "tags": []
   },
   "source": [
    "\n",
    "### Try to buffer the points for solar applications just ouside nature reserves - NOT WORKING YET:"
   ]
  },
  {
   "cell_type": "code",
   "execution_count": 59,
   "id": "086c1fe7-a0c4-43d3-b540-2e39aa6a1471",
   "metadata": {},
   "outputs": [
    {
     "data": {
      "text/html": [
       "<div>\n",
       "<style scoped>\n",
       "    .dataframe tbody tr th:only-of-type {\n",
       "        vertical-align: middle;\n",
       "    }\n",
       "\n",
       "    .dataframe tbody tr th {\n",
       "        vertical-align: top;\n",
       "    }\n",
       "\n",
       "    .dataframe thead th {\n",
       "        text-align: right;\n",
       "    }\n",
       "</style>\n",
       "<table border=\"1\" class=\"dataframe\">\n",
       "  <thead>\n",
       "    <tr style=\"text-align: right;\">\n",
       "      <th></th>\n",
       "      <th>name</th>\n",
       "      <th>uid</th>\n",
       "      <th>scraper_name</th>\n",
       "      <th>description</th>\n",
       "      <th>address</th>\n",
       "      <th>postcode</th>\n",
       "      <th>url</th>\n",
       "      <th>associated_id</th>\n",
       "      <th>app_size</th>\n",
       "      <th>app_state</th>\n",
       "      <th>...</th>\n",
       "      <th>other_fields.decision_date</th>\n",
       "      <th>other_fields.decision_issued_date</th>\n",
       "      <th>other_fields.development_type</th>\n",
       "      <th>other_fields.first_advertised_date</th>\n",
       "      <th>other_fields.permission_expires_date</th>\n",
       "      <th>other_fields.applicant_company</th>\n",
       "      <th>other_fields.decision_published_date</th>\n",
       "      <th>X</th>\n",
       "      <th>Y</th>\n",
       "      <th>geometry</th>\n",
       "    </tr>\n",
       "  </thead>\n",
       "  <tbody>\n",
       "    <tr>\n",
       "      <th>6</th>\n",
       "      <td>TestValley/21/03016/SCRN</td>\n",
       "      <td>21/03016/SCRN</td>\n",
       "      <td>TestValley</td>\n",
       "      <td>screening opinion under the environment impact assessment regulations 2017 - installation of two new supporting towers along the andover-amesbury circuit providing a connection to solar farm on land at hatherden farm</td>\n",
       "      <td>Land To The West Of Chalkcroft Lane Penton Mewsey Andover Hampshire SP11 0HT</td>\n",
       "      <td>SP11 0HT</td>\n",
       "      <td>https://view-applications.testvalley.gov.uk/online-applications/applicationDetails.do?activeTab=summary&amp;keyVal=R0YSEDQC0I000</td>\n",
       "      <td>None</td>\n",
       "      <td>Medium</td>\n",
       "      <td>Undecided</td>\n",
       "      <td>...</td>\n",
       "      <td>NaN</td>\n",
       "      <td>NaN</td>\n",
       "      <td>NaN</td>\n",
       "      <td>NaN</td>\n",
       "      <td>NaN</td>\n",
       "      <td>NaN</td>\n",
       "      <td>NaN</td>\n",
       "      <td>-1.528374</td>\n",
       "      <td>51.23602</td>\n",
       "      <td>POINT (433022.248 148643.474)</td>\n",
       "    </tr>\n",
       "  </tbody>\n",
       "</table>\n",
       "<p>1 rows × 86 columns</p>\n",
       "</div>"
      ],
      "text/plain": [
       "                       name            uid scraper_name  \\\n",
       "6  TestValley/21/03016/SCRN  21/03016/SCRN   TestValley   \n",
       "\n",
       "                                                                                                                                                                                                                description  \\\n",
       "6  screening opinion under the environment impact assessment regulations 2017 - installation of two new supporting towers along the andover-amesbury circuit providing a connection to solar farm on land at hatherden farm   \n",
       "\n",
       "                                                                        address  \\\n",
       "6  Land To The West Of Chalkcroft Lane Penton Mewsey Andover Hampshire SP11 0HT   \n",
       "\n",
       "   postcode  \\\n",
       "6  SP11 0HT   \n",
       "\n",
       "                                                                                                                            url  \\\n",
       "6  https://view-applications.testvalley.gov.uk/online-applications/applicationDetails.do?activeTab=summary&keyVal=R0YSEDQC0I000   \n",
       "\n",
       "  associated_id app_size  app_state  ... other_fields.decision_date  \\\n",
       "6          None   Medium  Undecided  ...                        NaN   \n",
       "\n",
       "  other_fields.decision_issued_date other_fields.development_type  \\\n",
       "6                               NaN                           NaN   \n",
       "\n",
       "  other_fields.first_advertised_date other_fields.permission_expires_date  \\\n",
       "6                                NaN                                  NaN   \n",
       "\n",
       "  other_fields.applicant_company other_fields.decision_published_date  \\\n",
       "6                            NaN                                  NaN   \n",
       "\n",
       "          X         Y                       geometry  \n",
       "6 -1.528374  51.23602  POINT (433022.248 148643.474)  \n",
       "\n",
       "[1 rows x 86 columns]"
      ]
     },
     "execution_count": 59,
     "metadata": {},
     "output_type": "execute_result"
    }
   ],
   "source": [
    "solar27700.head(1)"
   ]
  },
  {
   "cell_type": "code",
   "execution_count": 60,
   "id": "f9534a3c-0cf4-4909-a622-e3b2c6e02572",
   "metadata": {},
   "outputs": [],
   "source": [
    "# set a buffer, e.g. 500 = 500m radius, so up to 1km away\n",
    "\n",
    "solar27700['geometry'] = solar27700.geometry.buffer(500)"
   ]
  },
  {
   "cell_type": "code",
   "execution_count": 61,
   "id": "e9df1533-572e-4f4c-836e-aaf50b3c98b1",
   "metadata": {},
   "outputs": [],
   "source": [
    "bufferswithpolys = gpd.sjoin(SSSIs, solar27700, predicate='intersects', how='inner' ) # "
   ]
  },
  {
   "cell_type": "code",
   "execution_count": 65,
   "id": "82de6625-5be5-456a-9c53-13c4ef4f5197",
   "metadata": {},
   "outputs": [
    {
     "data": {
      "text/plain": [
       "(3, 105)"
      ]
     },
     "execution_count": 65,
     "metadata": {},
     "output_type": "execute_result"
    }
   ],
   "source": [
    "bufferswithpolys.shape"
   ]
  },
  {
   "cell_type": "code",
   "execution_count": 62,
   "id": "aceabdf8-0917-4aae-b9b2-3e210c3b2cb4",
   "metadata": {},
   "outputs": [],
   "source": [
    "polyswithbuffers = gpd.sjoin(solar27700, SSSIs, predicate='intersects', how='inner')"
   ]
  },
  {
   "cell_type": "code",
   "execution_count": 66,
   "id": "5be91933-fb70-435c-9a30-702f6ac521f4",
   "metadata": {},
   "outputs": [
    {
     "data": {
      "text/plain": [
       "(3, 105)"
      ]
     },
     "execution_count": 66,
     "metadata": {},
     "output_type": "execute_result"
    }
   ],
   "source": [
    "polyswithbuffers.shape"
   ]
  },
  {
   "cell_type": "code",
   "execution_count": 63,
   "id": "7c3addbc-9d74-45ca-b5b2-d4edeea48873",
   "metadata": {},
   "outputs": [
    {
     "data": {
      "application/vnd.jupyter.widget-view+json": {
       "model_id": "ae9964c4430e46cebc7602210d36f8e5",
       "version_major": 2,
       "version_minor": 0
      },
      "text/plain": [
       "Map(center=[50.5, -4], controls=(ZoomControl(options=['position', 'zoom_in_text', 'zoom_in_title', 'zoom_out_t…"
      ]
     },
     "metadata": {},
     "output_type": "display_data"
    }
   ],
   "source": [
    "m = leafmap.Map(center=[50.5,-4], zoom=8, height=\"700px\", width=\"700px\")\n",
    "style = {\n",
    "    \"stroke\": True,\n",
    "    \"color\": \"#0000ff\",\n",
    "    \"weight\": 2,\n",
    "    \"opacity\": 1,\n",
    "    \"fill\": True,\n",
    "    \"fillColor\": \"#0000ff\",\n",
    "    \"fillOpacity\": 0.1,\n",
    "}\n",
    "m.add_gdf(polyswithbuffers, layer_name=\"SSSIs with solar planning applications\", style=style)\n",
    "m.add_gdf(bufferswithpolys, layer_name=\"solar planning applications\")\n",
    "m"
   ]
  },
  {
   "cell_type": "code",
   "execution_count": null,
   "id": "faf9cd8c-227d-4c6a-a0fe-e753153d35d6",
   "metadata": {},
   "outputs": [],
   "source": [
    "# in theory export map as html but layers are omitted. Fixable?\n",
    "m.to_html('solarSSSImap.html')"
   ]
  },
  {
   "cell_type": "code",
   "execution_count": null,
   "id": "6e13a9cb-82dd-4fa6-aec6-a09e89d7cfb7",
   "metadata": {},
   "outputs": [],
   "source": [
    "\n",
    "\n",
    "polybuffered = overlay(SSSIs, bufferpoint, how='intersection')"
   ]
  },
  {
   "cell_type": "code",
   "execution_count": null,
   "id": "5399b2b0-a473-482e-996a-d75971a651dd",
   "metadata": {},
   "outputs": [],
   "source": [
    "polybuffered.shape"
   ]
  },
  {
   "cell_type": "code",
   "execution_count": null,
   "id": "624cd105-a144-4537-964d-ff8075bd0391",
   "metadata": {},
   "outputs": [],
   "source": [
    "pointbuffered = gpd.sjoin(SSSIs, buffer1km, op='contains', how='inner' )"
   ]
  },
  {
   "cell_type": "code",
   "execution_count": null,
   "id": "7da11b63-2c12-4bfa-99e8-df5b727c2f25",
   "metadata": {},
   "outputs": [],
   "source": [
    "pointbuffered.shape"
   ]
  },
  {
   "cell_type": "code",
   "execution_count": null,
   "id": "a0f91fd6-4154-4a6b-b7b0-a7dea29046e8",
   "metadata": {},
   "outputs": [],
   "source": [
    "m = leafmap.Map(center=[54,-2], zoom=6, height=\"800px\", width=\"450px\")\n",
    "m.add_gdf(SSSIs, layer_name=\"SSSIs\")\n",
    "m"
   ]
  },
  {
   "cell_type": "code",
   "execution_count": null,
   "id": "5549fac1-e0b1-4f0b-905c-bb52dccf63ed",
   "metadata": {},
   "outputs": [],
   "source": [
    "cols = solar.columns"
   ]
  },
  {
   "cell_type": "code",
   "execution_count": null,
   "id": "2ac5a242-fa41-478e-be66-d739442b2092",
   "metadata": {},
   "outputs": [],
   "source": [
    "SSSI_example = SSSIs.loc[SSSIs['sssi_name'] == 'Taw-Torridge Estuary']\n",
    "# SSSI_example.crs\n",
    "# SSSI_example.head()"
   ]
  },
  {
   "cell_type": "code",
   "execution_count": null,
   "id": "decabac5-f934-42d1-b9d1-bbc792935817",
   "metadata": {},
   "outputs": [],
   "source": [
    "fake_solar = pd.read_csv('fake_applications.csv')"
   ]
  },
  {
   "cell_type": "code",
   "execution_count": null,
   "id": "f39a8aee-ca26-4a87-842b-528f430cb569",
   "metadata": {},
   "outputs": [],
   "source": [
    "fake_solar.head()"
   ]
  },
  {
   "cell_type": "code",
   "execution_count": null,
   "id": "91a76117-84c4-45aa-aeda-22c3beedaaff",
   "metadata": {},
   "outputs": [],
   "source": [
    "fakeGDF = gpd.GeoDataFrame(fake_solar, geometry=gpd.points_from_xy(fake_solar['X'], fake_solar['Y']))  # crs={'init':'epsg:27700'}\n",
    "fakeGDF.shape"
   ]
  },
  {
   "cell_type": "code",
   "execution_count": null,
   "id": "2f98b169-c557-4079-ae91-c076843002d7",
   "metadata": {},
   "outputs": [],
   "source": [
    "fakeGDF = fakeGDF.set_crs(epsg=4326, inplace=True)\n"
   ]
  },
  {
   "cell_type": "code",
   "execution_count": null,
   "id": "ee7a87f6-d06d-4acf-b518-bbac22d37e95",
   "metadata": {},
   "outputs": [],
   "source": [
    "fakeGDF.crs == SSSI_example.crs"
   ]
  },
  {
   "cell_type": "code",
   "execution_count": null,
   "id": "8bba1eb8-0ed3-4bd1-afc2-e66930f52b03",
   "metadata": {},
   "outputs": [],
   "source": [
    "fakeGDF.total_bounds"
   ]
  },
  {
   "cell_type": "code",
   "execution_count": null,
   "id": "40638699-f8b3-4cfe-9732-d6953a9623b9",
   "metadata": {},
   "outputs": [],
   "source": [
    "SSSI_example.total_bounds"
   ]
  },
  {
   "cell_type": "code",
   "execution_count": null,
   "id": "d32fc22b-4e0d-481e-aa30-6810daf9c2e1",
   "metadata": {},
   "outputs": [],
   "source": [
    "fake27700 = fakeGDF.to_crs(epsg=27700)"
   ]
  },
  {
   "cell_type": "code",
   "execution_count": null,
   "id": "36af3821-506e-4868-8f2a-4a84fbd0c7a8",
   "metadata": {},
   "outputs": [],
   "source": [
    "SSSI27700 = SSSI_example.to_crs(epsg=27700)"
   ]
  },
  {
   "cell_type": "code",
   "execution_count": null,
   "id": "4aff4e4a-5de9-461c-8690-fc7f103fb7af",
   "metadata": {},
   "outputs": [],
   "source": [
    "SSSI27700.geometry"
   ]
  },
  {
   "cell_type": "code",
   "execution_count": null,
   "id": "6e04b1d6-56bf-4487-929d-a601ac6a2bfc",
   "metadata": {},
   "outputs": [],
   "source": [
    "fake27700.geometry"
   ]
  },
  {
   "cell_type": "code",
   "execution_count": null,
   "id": "bedfca05-63c6-4e49-8b6d-b516c4ebc76b",
   "metadata": {},
   "outputs": [],
   "source": [
    "fake27700.total_bounds"
   ]
  },
  {
   "cell_type": "code",
   "execution_count": null,
   "id": "1dff8b04-957c-4a2e-af48-32817a03d73c",
   "metadata": {},
   "outputs": [],
   "source": [
    "SSSI27700.total_bounds"
   ]
  },
  {
   "cell_type": "code",
   "execution_count": null,
   "id": "e095a8b1-a3f5-479a-b104-16771d1879e8",
   "metadata": {},
   "outputs": [],
   "source": [
    "fig, ax = plt.subplots(figsize=(15, 12))\n",
    "\n",
    "#polyswithpoints.plot(ax = ax, edgecolor='black',  )\n",
    "\n",
    "fake27700.plot(ax=ax, marker='o', color='red', markersize=2)\n",
    "SSSI27700.plot(ax=ax)\n",
    "\n",
    "plt.show()"
   ]
  },
  {
   "cell_type": "code",
   "execution_count": null,
   "id": "ffe8cefc-5948-4825-bc70-909303879621",
   "metadata": {},
   "outputs": [],
   "source": []
  },
  {
   "cell_type": "code",
   "execution_count": null,
   "id": "e53b4b22-bc52-414e-aa28-7d9e7c546e9c",
   "metadata": {},
   "outputs": [],
   "source": []
  }
 ],
 "metadata": {
  "kernelspec": {
   "display_name": "Python 3",
   "language": "python",
   "name": "python3"
  },
  "language_info": {
   "codemirror_mode": {
    "name": "ipython",
    "version": 3
   },
   "file_extension": ".py",
   "mimetype": "text/x-python",
   "name": "python",
   "nbconvert_exporter": "python",
   "pygments_lexer": "ipython3",
   "version": "3.8.12"
  }
 },
 "nbformat": 4,
 "nbformat_minor": 5
}
